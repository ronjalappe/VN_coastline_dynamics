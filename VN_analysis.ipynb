{
 "metadata": {
  "language_info": {
   "codemirror_mode": {
    "name": "ipython",
    "version": 3
   },
   "file_extension": ".py",
   "mimetype": "text/x-python",
   "name": "python",
   "nbconvert_exporter": "python",
   "pygments_lexer": "ipython3",
   "version": "3.9.1"
  },
  "orig_nbformat": 2,
  "kernelspec": {
   "name": "python391jvsc74a57bd07bf14925a434f6b7c958ecb24d261e8248047be1db188dfff6ca1cc92668254a",
   "display_name": "Python 3.9.1 64-bit ('geo_env': conda)"
  },
  "metadata": {
   "interpreter": {
    "hash": "7bf14925a434f6b7c958ecb24d261e8248047be1db188dfff6ca1cc92668254a"
   }
  }
 },
 "nbformat": 4,
 "nbformat_minor": 2,
 "cells": [
  {
   "cell_type": "code",
   "execution_count": 2,
   "metadata": {},
   "outputs": [],
   "source": [
    "import os\n",
    "import glob\n",
    "import numpy as np\n",
    "import pandas as pd\n",
    "import geopandas as gpd\n",
    "import shapely as shp\n",
    "import rasterio as rio \n",
    "import seaborn as sns\n",
    "import matplotlib.pyplot as plt"
   ]
  },
  {
   "cell_type": "code",
   "execution_count": 6,
   "metadata": {},
   "outputs": [],
   "source": [
    "# Directories\n",
    "data_dir = os.path.join(os.getcwd(),\"data\") # path to data-folder with aux data\n",
    "proc_tiles_path = os.path.join(os.path.join(data_dir,\"VN_processing_polygons\")) # path to processing tiles\n",
    "country_bounds_path = os.path.join(data_dir,\"VN_country_bounds\") # path to country bounds\n",
    "osm_sl_path = os.path.join(os.path.join(data_dir,\"VN_osm_coastline\")) # path to reference shoreline\n",
    "buffer_path = os.path.join(os.path.join(data_dir,\"VN_buffer_5km\"))\n",
    "\n",
    "# Params\n",
    "crs = \"EPSG:3857\"                   "
   ]
  },
  {
   "cell_type": "code",
   "execution_count": 7,
   "metadata": {},
   "outputs": [],
   "source": [
    "# read/ create aux data \n",
    "proc_tiles = gpd.read_file(proc_tiles_path).to_crs(crs)"
   ]
  },
  {
   "cell_type": "code",
   "execution_count": 151,
   "metadata": {
    "tags": []
   },
   "outputs": [
    {
     "output_type": "error",
     "ename": "AttributeError",
     "evalue": "'NoneType' object has no attribute 'append'",
     "traceback": [
      "\u001b[0;31m---------------------------------------------------------------------------\u001b[0m",
      "\u001b[0;31mAttributeError\u001b[0m                            Traceback (most recent call last)",
      "\u001b[0;32m<ipython-input-151-151fce6df500>\u001b[0m in \u001b[0;36m<module>\u001b[0;34m\u001b[0m\n\u001b[1;32m      2\u001b[0m \u001b[0maq_sums\u001b[0m \u001b[0;34m=\u001b[0m \u001b[0;34m[\u001b[0m\u001b[0;34m]\u001b[0m\u001b[0;34m\u001b[0m\u001b[0;34m\u001b[0m\u001b[0m\n\u001b[1;32m      3\u001b[0m \u001b[0maq_annual\u001b[0m \u001b[0;34m=\u001b[0m \u001b[0mdict\u001b[0m\u001b[0;34m.\u001b[0m\u001b[0mfromkeys\u001b[0m\u001b[0;34m(\u001b[0m\u001b[0mrange\u001b[0m\u001b[0;34m(\u001b[0m\u001b[0;36m1987\u001b[0m\u001b[0;34m,\u001b[0m\u001b[0;36m2021\u001b[0m\u001b[0;34m)\u001b[0m\u001b[0;34m)\u001b[0m\u001b[0;34m\u001b[0m\u001b[0;34m\u001b[0m\u001b[0m\n\u001b[0;32m----> 4\u001b[0;31m \u001b[0maq_annual\u001b[0m\u001b[0;34m(\u001b[0m\u001b[0maq_annual\u001b[0m\u001b[0;34m[\u001b[0m\u001b[0;36m1987\u001b[0m\u001b[0;34m]\u001b[0m\u001b[0;34m.\u001b[0m\u001b[0mappend\u001b[0m\u001b[0;34m(\u001b[0m\u001b[0;36m5\u001b[0m\u001b[0;34m)\u001b[0m\u001b[0;34m)\u001b[0m\u001b[0;34m\u001b[0m\u001b[0;34m\u001b[0m\u001b[0m\n\u001b[0m\u001b[1;32m      5\u001b[0m \u001b[0mprint\u001b[0m\u001b[0;34m(\u001b[0m\u001b[0maq_annual\u001b[0m\u001b[0;34m)\u001b[0m\u001b[0;34m\u001b[0m\u001b[0;34m\u001b[0m\u001b[0m\n\u001b[1;32m      6\u001b[0m \u001b[0;32mfor\u001b[0m \u001b[0mi\u001b[0m \u001b[0;32min\u001b[0m \u001b[0mproc_tiles\u001b[0m\u001b[0;34m.\u001b[0m\u001b[0mid\u001b[0m\u001b[0;34m:\u001b[0m\u001b[0;34m\u001b[0m\u001b[0;34m\u001b[0m\u001b[0m\n",
      "\u001b[0;31mAttributeError\u001b[0m: 'NoneType' object has no attribute 'append'"
     ]
    }
   ],
   "source": [
    "# Number of images used for processing coastlines of entire Vietnam from 1984-May 2\n",
    "aq_sums = []\n",
    "aq_annual = dict.fromkeys(range(1987,2021))\n",
    "aq_annual(aq_annual[1987].append(5))\n",
    "print(aq_annual)\n",
    "for i in proc_tiles.id:\n",
    "    tile_name = \"P\"+str(i).zfill(2) # name of processing tile\n",
    "    folder_path = os.path.join(data_dir,tile_name) # path to mndwi rasters and meta\n",
    "    meta_path = os.path.join(data_dir,tile_name,tile_name+\".csv\")\n",
    "    meta = pd.read_csv(meta_path)\n",
    "    meta = meta.drop(columns=['system:index','.geo'])\n",
    "    meta = meta.transpose().rename(columns={0:tile_name})\n",
    "    meta['year'] = meta.index\n",
    "    meta = meta.reset_index(drop=True)\n",
    "    aq_sum = np.sum(meta[tile_name])\n",
    "    aq_sums.append(aq_sum)\n",
    "    for year in meta.year:\n",
    "        print(year)\n",
    "        y = str(year)\n",
    "        aq = meta[meta.year==y][tile_name][0]\n",
    "        print(aq)\n",
    "        break\n",
    "    for year in aq_annual:\n",
    "        aq_annual[year]\n",
    "        break\n",
    "    break\n",
    "    #for year in meta.year:\n",
    "    #    print(meta[meta.year==year])\n",
    "    #break\n",
    "all_images = np.sum(aq_sums) # 26,109 images have been used for the entire analysis"
   ]
  },
  {
   "cell_type": "code",
   "execution_count": null,
   "metadata": {},
   "outputs": [],
   "source": []
  }
 ]
}