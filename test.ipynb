{
 "metadata": {
  "language_info": {
   "codemirror_mode": {
    "name": "ipython",
    "version": 3
   },
   "file_extension": ".py",
   "mimetype": "text/x-python",
   "name": "python",
   "nbconvert_exporter": "python",
   "pygments_lexer": "ipython3",
   "version": "3.8.2-final"
  },
  "orig_nbformat": 2,
  "kernelspec": {
   "name": "python3",
   "display_name": "Python 3",
   "language": "python"
  }
 },
 "nbformat": 4,
 "nbformat_minor": 2,
 "cells": [
  {
   "cell_type": "code",
   "execution_count": 1,
   "metadata": {},
   "outputs": [],
   "source": [
    "import rasterio as rio \n",
    "import pycrs\n",
    "import os\n",
    "import geopandas as gpd"
   ]
  },
  {
   "cell_type": "code",
   "execution_count": 2,
   "metadata": {},
   "outputs": [],
   "source": [
    "data_dir = \"/Users/Ronjamac/Documents/02_Studium/Masterarbeit/Code/VN_coastline_dynamics/test_data/\"\n",
    "raster_file = \"1_1988_L5_P1_13aq.tif\"\n",
    "raster_file_masked = \"1_1988_L5_P1_13aq_masked.tif\"\n",
    "box_file = \"test_box.geojson\""
   ]
  },
  {
   "cell_type": "code",
   "execution_count": null,
   "metadata": {},
   "outputs": [],
   "source": [
    "raster = rio.open(os.path.join(data_dir, raster_file_masked))\n",
    "type(raster)"
   ]
  },
  {
   "cell_type": "code",
   "execution_count": null,
   "metadata": {},
   "outputs": [],
   "source": [
    "shoreline = gpd.read_file(os.path.join(data_dir,os.path.splitext(raster_file_masked)[0]+\"_shoreline_cleaned.geojson\"))"
   ]
  },
  {
   "cell_type": "code",
   "execution_count": null,
   "metadata": {},
   "outputs": [],
   "source": [
    "rfsl = gpd.read_file(\"/Users/Ronjamac/Documents/02_Studium/Masterarbeit/Data/Vietnam_data/osm_coastline_epsg4326.geojson\")\n",
    "rfsl = rfsl.to_crs(\"EPSG:3857\")\n",
    "rfsl.geometry.iloc[100].simplify(tolerance=5)"
   ]
  }
 ]
}